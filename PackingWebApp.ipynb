{
 "cells": [
  {
   "cell_type": "code",
   "execution_count": 2,
   "metadata": {},
   "outputs": [
    {
     "data": {
      "text/html": [
       "\n",
       "<!DOCTYPE html>\n",
       "<html>\n",
       "    <head>\n",
       "        <title>PackingWebApp</title>\n",
       "        <meta charset=\"UTF-8\"/>\n",
       "    </head>\n",
       "    \n",
       "    <body style=\"background-color: rgb(0, 0, 0);\">\n",
       "    \n",
       "        <h1 style=\"color: white; font-size: 50px; font-family: 'Times New Roman'; background-color: rgb(0, 0, 0); border: 5px solid rgb(255, 255, 0); text-align: center; padding: 25px; margin: 0px 0px 10px 0px\">\n",
       "        Packing Simulation\n",
       "        </h1>\n",
       "        <h4 style=\"color: white; font-size: 15px; font-family: 'Times Nwe Roman'; text-align: center;\"> Desarrollado por Aguilar Hancco Junior Joel, aun estudiante de Ingenieria Mecanica </h4>\n",
       "\n",
       "    </body>\n",
       "</html>\n"
      ],
      "text/plain": [
       "<IPython.core.display.HTML object>"
      ]
     },
     "metadata": {},
     "output_type": "display_data"
    }
   ],
   "source": [
    "%%html\n",
    "\n",
    "<!DOCTYPE html>\n",
    "<html>\n",
    "    <head>\n",
    "        <title>PackingWebApp</title>\n",
    "        <meta charset=\"UTF-8\"/>\n",
    "    </head>\n",
    "    \n",
    "    <body style=\"background-color: rgb(0, 0, 0);\">\n",
    "    \n",
    "        <h1 style=\"color: white; font-size: 50px; font-family: 'Times New Roman'; background-color: rgb(0, 0, 0); border: 5px solid rgb(255, 255, 0); text-align: center; padding: 25px; margin: 0px 0px 10px 0px\">\n",
    "        Packing Simulation\n",
    "        </h1>\n",
    "        <h4 style=\"color: white; font-size: 15px; font-family: 'Times Nwe Roman'; text-align: center;\"> Desarrollado por Aguilar Hancco Junior Joel, aun estudiante de Ingenieria Mecanica </h4>\n",
    "\n",
    "    </body>\n",
    "</html>"
   ]
  }
 ],
 "metadata": {
  "kernelspec": {
   "display_name": "Python 3",
   "language": "python",
   "name": "python3"
  },
  "language_info": {
   "codemirror_mode": {
    "name": "ipython",
    "version": 3
   },
   "file_extension": ".py",
   "mimetype": "text/x-python",
   "name": "python",
   "nbconvert_exporter": "python",
   "pygments_lexer": "ipython3",
   "version": "3.8.5"
  }
 },
 "nbformat": 4,
 "nbformat_minor": 4
}
