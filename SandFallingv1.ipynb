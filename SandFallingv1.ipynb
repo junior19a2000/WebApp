{
 "cells": [
  {
   "cell_type": "code",
   "execution_count": 1,
   "id": "acdf7c1a",
   "metadata": {},
   "outputs": [
    {
     "data": {
      "application/vnd.jupyter.widget-view+json": {
       "model_id": "1311fadc73604b228481a5c85e6ca00d",
       "version_major": 2,
       "version_minor": 0
      },
      "text/plain": [
       "Canvas(toolbar=Toolbar(toolitems=[('Home', 'Reset original view', 'home', 'home'), ('Back', 'Back to previous …"
      ]
     },
     "metadata": {},
     "output_type": "display_data"
    },
    {
     "data": {
      "application/vnd.jupyter.widget-view+json": {
       "model_id": "d9ea089449834009b01f51c49ecdddd2",
       "version_major": 2,
       "version_minor": 0
      },
      "text/plain": [
       "ToggleButton(value=False, button_style='success', description='Empezar', layout=Layout(height='30px', justify_…"
      ]
     },
     "metadata": {},
     "output_type": "display_data"
    }
   ],
   "source": [
    "%matplotlib widget\n",
    "import matplotlib.pyplot as plt\n",
    "import numpy as np\n",
    "import ipywidgets as ipw\n",
    "from numpy import random\n",
    "\n",
    "def onclick(event):\n",
    "    \n",
    "    if event.button == 1 or event.button == 2 or event.button == 3: \n",
    "        X[round(event.ydata),round(event.xdata)] = 1\n",
    "        ax.spy(X, markersize=4)\n",
    "        ax.set(xlim=(0, 100), ylim=(0, 50))\n",
    "        plt.xticks([])\n",
    "        plt.yticks([])\n",
    "\n",
    "def start_game(state):\n",
    "    \n",
    "    if state == 1:\n",
    "        ToggleButton1.description = 'Detener'\n",
    "        ToggleButton1.button_style = 'warning'\n",
    "    else:\n",
    "        ToggleButton1.description = 'Empezar'\n",
    "        ToggleButton1.button_style = 'success'\n",
    "        \n",
    "    while state == 1:\n",
    "        c_0 = 0\n",
    "        ax.clear()\n",
    "        for i in range(49,-1,-1):\n",
    "            for j in range(1,99):\n",
    "                if X[i,j] == 1:\n",
    "                    if i == 49:\n",
    "                        c_0 = c_0 + 1\n",
    "                    else:\n",
    "                        if X[i+1,j] == 0:\n",
    "                            X[i,j] = 0\n",
    "                            X[i+1,j] = 1\n",
    "                        elif X[i+1,j] == 1 and X[i+1,j-1] == 0 and X[i+1,j+1] == 0:\n",
    "                            X[i,j] = 0\n",
    "                            X[i+1,j+random.choice([1, -1])] = 1\n",
    "                        elif X[i+1,j] == 1 and X[i+1,j-1] == 0:\n",
    "                            X[i,j] = 0\n",
    "                            X[i+1,j-1] = 1\n",
    "                        elif X[i+1,j] == 1 and X[i+1,j+1] == 0:\n",
    "                            X[i,j] = 0\n",
    "                            X[i+1,j+1] = 1\n",
    "                        else:\n",
    "                            c_0 = c_0 + 1\n",
    "        #print(sum(sum(X)) - c_0)\n",
    "            plt.spy(X, markersize=4)       \n",
    "            #ax.set(xlim=(0, 100), ylim=(0, 50)) \n",
    "            plt.xlim(0, 100)\n",
    "            plt.ylim(0, 50)\n",
    "            plt.xticks([])\n",
    "            plt.yticks([])\n",
    "            ax.patch.set_facecolor('black')\n",
    "            #plt.pause(0.0001)\n",
    "        #plt.show()\n",
    "        if sum(sum(X)) == c_0:\n",
    "            ToggleButton1.value = 0\n",
    "            ToggleButton1.description = 'Empezar'\n",
    "            ToggleButton1.button_style = 'success'\n",
    "            break\n",
    "            \n",
    "figs, ax = plt.subplots(facecolor=(0.53,0.52,0.45))\n",
    "figs.canvas.toolbar_visible = False\n",
    "figs.canvas.header_visible  = False\n",
    "figs.canvas.footer_visible  = False\n",
    "figs.set_size_inches(32.45/2.54, 16/2.54, forward=True)\n",
    "plt.axis('equal')\n",
    "plt.xticks([])\n",
    "plt.yticks([])\n",
    "\n",
    "X = np.zeros((50,100), dtype=int)\n",
    "ax.set(xlim=(0, 100), ylim=(0, 50))\n",
    "ax.patch.set_facecolor('black')\n",
    "f_mouse = figs.canvas.mpl_connect('motion_notify_event', onclick)\n",
    "\n",
    "ToggleButton1 = ipw.ToggleButton(\n",
    "    value  = 0,\n",
    "    description = 'Empezar',\n",
    "    layout = ipw.Layout(justify_content='space-between', width='98.5%', height='30px'),\n",
    "    button_style = 'success'\n",
    ")\n",
    "display(ToggleButton1)\n",
    "f_start = ipw.interactive(start_game, state = ToggleButton1)"
   ]
  }
 ],
 "metadata": {
  "kernelspec": {
   "display_name": "Python 3 (ipykernel)",
   "language": "python",
   "name": "python3"
  },
  "language_info": {
   "codemirror_mode": {
    "name": "ipython",
    "version": 3
   },
   "file_extension": ".py",
   "mimetype": "text/x-python",
   "name": "python",
   "nbconvert_exporter": "python",
   "pygments_lexer": "ipython3",
   "version": "3.8.5"
  }
 },
 "nbformat": 4,
 "nbformat_minor": 5
}
